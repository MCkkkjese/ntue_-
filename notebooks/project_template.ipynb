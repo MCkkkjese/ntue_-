{
 "cells": [
  {
   "cell_type": "markdown",
   "metadata": {},
   "source": [
    "# NTUE 資料科學程式設計 - 專案模板\n",
    "\n",
    "**學生姓名：** [請填入姓名]\n",
    "**學號：** [請填入學號]\n",
    "**日期：** [請填入日期]\n",
    "\n",
    "## 專案目標\n",
    "[請描述您的專案目標]\n",
    "\n",
    "## 資料來源\n",
    "[請說明您使用的資料來源]"
   ]
  },
  {
   "cell_type": "markdown",
   "metadata": {},
   "source": [
    "## 1. 匯入必要的套件"
   ]
  },
  {
   "cell_type": "code",
   "execution_count": null,
   "metadata": {},
   "outputs": [],
   "source": [
    "# 基礎套件\n",
    "import numpy as np\n",
    "import pandas as pd\n",
    "import matplotlib.pyplot as plt\n",
    "import seaborn as sns\n",
    "\n",
    "# 設定中文字體（避免顯示問題）\n",
    "plt.rcParams['font.sans-serif'] = ['Arial Unicode MS', 'SimHei']\n",
    "plt.rcParams['axes.unicode_minus'] = False\n",
    "\n",
    "# 設定圖表樣式\n",
    "sns.set_style(\"whitegrid\")\n",
    "plt.style.use('default')"
   ]
  },
  {
   "cell_type": "markdown",
   "metadata": {},
   "source": [
    "## 2. 資料載入與初步觀察"
   ]
  },
  {
   "cell_type": "code",
   "execution_count": null,
   "metadata": {},
   "outputs": [],
   "source": [
    "# 載入資料\n",
    "# df = pd.read_csv('your_data.csv')\n",
    "\n",
    "# 顯示基本資訊\n",
    "# print(\"資料形狀:\", df.shape)\n",
    "# print(\"\\n前五筆資料:\")\n",
    "# df.head()"
   ]
  },
  {
   "cell_type": "markdown",
   "metadata": {},
   "source": [
    "## 3. 資料清理與預處理"
   ]
  },
  {
   "cell_type": "code",
   "execution_count": null,
   "metadata": {},
   "outputs": [],
   "source": [
    "# 檢查缺失值\n",
    "# df.isnull().sum()\n",
    "\n",
    "# 處理缺失值\n",
    "# 填入代碼"
   ]
  },
  {
   "cell_type": "markdown",
   "metadata": {},
   "source": [
    "## 4. 探索性資料分析"
   ]
  },
  {
   "cell_type": "code",
   "execution_count": null,
   "metadata": {},
   "outputs": [],
   "source": [
    "# 基本統計摘要\n",
    "# df.describe()\n",
    "\n",
    "# 創建視覺化圖表\n",
    "# 填入代碼"
   ]
  },
  {
   "cell_type": "markdown",
   "metadata": {},
   "source": [
    "## 5. 統計分析或機器學習"
   ]
  },
  {
   "cell_type": "code",
   "execution_count": null,
   "metadata": {},
   "outputs": [],
   "source": [
    "# 進行統計分析或建立機器學習模型\n",
    "# 填入代碼"
   ]
  },
  {
   "cell_type": "markdown",
   "metadata": {},
   "source": [
    "## 6. 結果與結論\n",
    "\n",
    "### 主要發現\n",
    "[請描述您的主要發現]\n",
    "\n",
    "### 結論\n",
    "[請提供您的結論]\n",
    "\n",
    "### 未來工作\n",
    "[如果有的話，請描述後續可以改進的地方]"
   ]
  }
 ],
 "metadata": {
  "kernelspec": {
   "display_name": "Python 3",
   "language": "python",
   "name": "python3"
  },
  "language_info": {
   "codemirror_mode": {
    "name": "ipython",
    "version": 3
   },
   "file_extension": ".py",
   "mimetype": "text/x-python",
   "name": "python",
   "nbconvert_exporter": "python",
   "pygments_lexer": "ipython3",
   "version": "3.8.5"
  }
 },
 "nbformat": 4,
 "nbformat_minor": 4
}